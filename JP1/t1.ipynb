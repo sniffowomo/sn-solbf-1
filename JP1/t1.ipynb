{
 "cells": [
  {
   "attachments": {},
   "cell_type": "markdown",
   "metadata": {},
   "source": [
    "# Notebook Description \n",
    "\n",
    "1. This notebook is going to be for random testing \n",
    "2. Specifically this was being made for testing manim \n",
    "\n",
    "## Manim "
   ]
  }
 ],
 "metadata": {
  "language_info": {
   "name": "python"
  },
  "orig_nbformat": 4
 },
 "nbformat": 4,
 "nbformat_minor": 2
}
