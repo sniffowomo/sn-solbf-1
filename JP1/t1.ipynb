{
 "cells": [
  {
   "attachments": {},
   "cell_type": "markdown",
   "metadata": {},
   "source": [
    "# Notebook Description \n",
    "\n",
    "1. This notebook is going to be for random testing \n",
    "2. Specifically this was being made for testing manim \n",
    "\n",
    "# Manim Stuf \n",
    "\n",
    "## [Installation](https://docs.manim.community/en/stable/installation/linux.html)\n",
    "\n",
    "```sh \n",
    "sudo apt update\n",
    "sudo apt install build-essential python3-dev libcairo2-dev libpango1.0-dev ffmpeg\n",
    "```\n",
    "- This is required and keeps failing in all other platforms \n",
    "- Long installtion time in general and runs a whole update \n",
    "\n",
    "\n"
   ]
  }
 ],
 "metadata": {
  "language_info": {
   "name": "python"
  },
  "orig_nbformat": 4
 },
 "nbformat": 4,
 "nbformat_minor": 2
}
