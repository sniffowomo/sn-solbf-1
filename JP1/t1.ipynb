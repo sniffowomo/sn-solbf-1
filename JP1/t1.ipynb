{
 "cells": [
  {
   "attachments": {},
   "cell_type": "markdown",
   "metadata": {},
   "source": [
    "# Notebook Description \n",
    "\n",
    "1. This notebook is going to be for random testing \n",
    "2. Specifically this was being made for testing manim \n",
    "\n",
    "# Manim Stuf \n",
    "\n",
    "## [Installation](https://docs.manim.community/en/stable/installation/linux.html)\n",
    "\n",
    "```sh \n",
    "sudo apt update\n",
    "sudo apt install build-essential python3-dev libcairo2-dev libpango1.0-dev ffmpeg\n",
    "```\n",
    "- This is required and keeps failing in all other platforms \n",
    "- Long installtion time in general and runs a whole update \n",
    "\n",
    "*Then you need to do actual manim installation*\n",
    "```py \n",
    "pip install manim\n",
    "```\n",
    "# Notes \n",
    "\n",
    "1. Not sure if you will ever do it in this way , since its way easier to just run the command line parameters and the output is bad ass\n",
    "2. So this is testing for the jupyter notebook in general\n",
    "3. Whe directly running the cells it doesnt seem to actually create the files \n",
    "4. So looking at the example notebook to see how properly to do that\n"
   ]
  },
  {
   "cell_type": "code",
   "execution_count": 9,
   "metadata": {},
   "outputs": [
    {
     "name": "stdout",
     "output_type": "stream",
     "text": [
      "Manim Community \u001b[32mv0.\u001b[0m\u001b[32m17.2\u001b[0m\n",
      "\n",
      "Usage: manim [OPTIONS] COMMAND [ARGS]...\n",
      "\n",
      "  Animation engine for explanatory math videos.\n",
      "\n",
      "Options:\n",
      "  --version  Show version and exit.\n",
      "  --help     Show this message and exit.\n",
      "\n",
      "Commands:\n",
      "  cfg      Manages Manim configuration files.\n",
      "  init     Create a new project or insert a new scene.\n",
      "  new      (Deprecated) Create a new project or insert a new scene.\n",
      "  plugins  Manages Manim plugins.\n",
      "  render   Render SCENE(S) from the input FILE.\n",
      "\n",
      "See 'manim <command>' to read about a specific subcommand.\n",
      "\n",
      "Note: the subcommand 'manim render' is called if no other subcommand is\n",
      "specified. Run 'manim render --help' if you would like to know what the '-ql' or\n",
      "'-p' flags do, for example.\n",
      "\n",
      "Made with <3 by Manim Community developers.\n"
     ]
    }
   ],
   "source": [
    "from manim import *\n",
    "!manim "
   ]
  },
  {
   "cell_type": "code",
   "execution_count": 11,
   "metadata": {},
   "outputs": [
    {
     "name": "stdout",
     "output_type": "stream",
     "text": [
      "Manim Community \u001b[32mv0.\u001b[0m\u001b[32m17.2\u001b[0m\n",
      "\n",
      "Traceback (most recent call last):\n",
      "  File \"/home/codespace/.python/current/bin/manim\", line 8, in <module>\n",
      "    sys.exit(main())\n",
      "  File \"/usr/local/python/3.10.4/lib/python3.10/site-packages/click/core.py\", line 1130, in __call__\n",
      "    return self.main(*args, **kwargs)\n",
      "  File \"/usr/local/python/3.10.4/lib/python3.10/site-packages/click/core.py\", line 1055, in main\n",
      "    rv = self.invoke(ctx)\n",
      "  File \"/usr/local/python/3.10.4/lib/python3.10/site-packages/click/core.py\", line 1657, in invoke\n",
      "    return _process_result(sub_ctx.command.invoke(sub_ctx))\n",
      "  File \"/usr/local/python/3.10.4/lib/python3.10/site-packages/click/core.py\", line 1404, in invoke\n",
      "    return ctx.invoke(self.callback, **ctx.params)\n",
      "  File \"/usr/local/python/3.10.4/lib/python3.10/site-packages/click/core.py\", line 760, in invoke\n",
      "    return __callback(*args, **kwargs)\n",
      "  File \"/usr/local/python/3.10.4/lib/python3.10/site-packages/manim/cli/render/commands.py\", line 111, in render\n",
      "    for SceneClass in scene_classes_from_file(file):\n",
      "  File \"/usr/local/python/3.10.4/lib/python3.10/site-packages/manim/utils/module_ops.py\", line 129, in scene_classes_from_file\n",
      "    module = get_module(file_path)\n",
      "  File \"/usr/local/python/3.10.4/lib/python3.10/site-packages/manim/utils/module_ops.py\", line 55, in get_module\n",
      "    raise FileNotFoundError(f\"{file_name} not found\")\n",
      "FileNotFoundError: /workspaces/sn-solbf-1/JP1/SquareToCircle not found\n"
     ]
    }
   ],
   "source": [
    "# This code to be put first for file gen \n",
    "\n",
    "from manim import *\n",
    "\n",
    "!manim -qm -v WARNING SquareToCircle\n",
    "\n",
    "class SquareToCircle(Scene):\n",
    "    def construct(self):\n",
    "        circle = Circle()\n",
    "        square = Square()\n",
    "        square.flip(RIGHT)\n",
    "        square.rotate(-3 * TAU / 8)\n",
    "        circle.set_fill(PINK, opacity=0.5)\n",
    "\n",
    "        self.play(Create(square))\n",
    "        self.play(Transform(square, circle))\n",
    "        self.play(FadeOut(square))"
   ]
  },
  {
   "cell_type": "code",
   "execution_count": 2,
   "metadata": {},
   "outputs": [
    {
     "name": "stdout",
     "output_type": "stream",
     "text": [
      "Manim Community \u001b[32mv0.\u001b[0m\u001b[32m17.2\u001b[0m\n",
      "\n",
      "Traceback (most recent call last):\n",
      "  File \"/home/codespace/.python/current/bin/manim\", line 8, in <module>\n",
      "    sys.exit(main())\n",
      "  File \"/usr/local/python/3.10.4/lib/python3.10/site-packages/click/core.py\", line 1130, in __call__\n",
      "    return self.main(*args, **kwargs)\n",
      "  File \"/usr/local/python/3.10.4/lib/python3.10/site-packages/click/core.py\", line 1055, in main\n",
      "    rv = self.invoke(ctx)\n",
      "  File \"/usr/local/python/3.10.4/lib/python3.10/site-packages/click/core.py\", line 1657, in invoke\n",
      "    return _process_result(sub_ctx.command.invoke(sub_ctx))\n",
      "  File \"/usr/local/python/3.10.4/lib/python3.10/site-packages/click/core.py\", line 1404, in invoke\n",
      "    return ctx.invoke(self.callback, **ctx.params)\n",
      "  File \"/usr/local/python/3.10.4/lib/python3.10/site-packages/click/core.py\", line 760, in invoke\n",
      "    return __callback(*args, **kwargs)\n",
      "  File \"/usr/local/python/3.10.4/lib/python3.10/site-packages/manim/cli/render/commands.py\", line 111, in render\n",
      "    for SceneClass in scene_classes_from_file(file):\n",
      "  File \"/usr/local/python/3.10.4/lib/python3.10/site-packages/manim/utils/module_ops.py\", line 129, in scene_classes_from_file\n",
      "    module = get_module(file_path)\n",
      "  File \"/usr/local/python/3.10.4/lib/python3.10/site-packages/manim/utils/module_ops.py\", line 55, in get_module\n",
      "    raise FileNotFoundError(f\"{file_name} not found\")\n",
      "FileNotFoundError: /workspaces/sn-solbf-1/JP1/scene.py not found\n"
     ]
    }
   ],
   "source": [
    "!manim -pql scene.py CreateCircle"
   ]
  }
 ],
 "metadata": {
  "kernelspec": {
   "display_name": "Python 3",
   "language": "python",
   "name": "python3"
  },
  "language_info": {
   "codemirror_mode": {
    "name": "ipython",
    "version": 3
   },
   "file_extension": ".py",
   "mimetype": "text/x-python",
   "name": "python",
   "nbconvert_exporter": "python",
   "pygments_lexer": "ipython3",
   "version": "3.10.4"
  },
  "orig_nbformat": 4
 },
 "nbformat": 4,
 "nbformat_minor": 2
}
